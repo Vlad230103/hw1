{
 "cells": [
  {
   "cell_type": "code",
   "execution_count": 1,
   "id": "636ae6f7",
   "metadata": {},
   "outputs": [],
   "source": [
    "import pandas as pd\n",
    "import numpy as np\n",
    "from sklearn.model_selection import train_test_split\n",
    "from sklearn.ensemble import RandomForestClassifier\n",
    "from sklearn.linear_model import LogisticRegression\n",
    "from sklearn.metrics import accuracy_score\n",
    "from sklearn.neighbors import KNeighborsClassifier"
   ]
  },
  {
   "cell_type": "code",
   "execution_count": 2,
   "id": "0493a019",
   "metadata": {},
   "outputs": [],
   "source": [
    "df = pd.read_csv('dataset.csv')"
   ]
  },
  {
   "cell_type": "code",
   "execution_count": 3,
   "id": "6278b14e",
   "metadata": {},
   "outputs": [
    {
     "name": "stdout",
     "output_type": "stream",
     "text": [
      "Размер данных: (33, 21)\n",
      "\n",
      "Первые 3 строки:\n"
     ]
    },
    {
     "data": {
      "text/html": [
       "<div>\n",
       "<style scoped>\n",
       "    .dataframe tbody tr th:only-of-type {\n",
       "        vertical-align: middle;\n",
       "    }\n",
       "\n",
       "    .dataframe tbody tr th {\n",
       "        vertical-align: top;\n",
       "    }\n",
       "\n",
       "    .dataframe thead th {\n",
       "        text-align: right;\n",
       "    }\n",
       "</style>\n",
       "<table border=\"1\" class=\"dataframe\">\n",
       "  <thead>\n",
       "    <tr style=\"text-align: right;\">\n",
       "      <th></th>\n",
       "      <th>os</th>\n",
       "      <th>sex</th>\n",
       "      <th>siblings</th>\n",
       "      <th>osPC</th>\n",
       "      <th>taxi</th>\n",
       "      <th>mobgames</th>\n",
       "      <th>regionMos</th>\n",
       "      <th>camera</th>\n",
       "      <th>regionRF</th>\n",
       "      <th>pay</th>\n",
       "      <th>...</th>\n",
       "      <th>occupation</th>\n",
       "      <th>smarthouse</th>\n",
       "      <th>IT</th>\n",
       "      <th>watches</th>\n",
       "      <th>budget</th>\n",
       "      <th>charges</th>\n",
       "      <th>browser</th>\n",
       "      <th>technologies</th>\n",
       "      <th>interface</th>\n",
       "      <th>material</th>\n",
       "    </tr>\n",
       "  </thead>\n",
       "  <tbody>\n",
       "    <tr>\n",
       "      <th>0</th>\n",
       "      <td>1</td>\n",
       "      <td>1</td>\n",
       "      <td>1</td>\n",
       "      <td>1</td>\n",
       "      <td>20</td>\n",
       "      <td>1</td>\n",
       "      <td>5</td>\n",
       "      <td>1</td>\n",
       "      <td>1</td>\n",
       "      <td>1</td>\n",
       "      <td>...</td>\n",
       "      <td>2</td>\n",
       "      <td>2</td>\n",
       "      <td>2</td>\n",
       "      <td>2</td>\n",
       "      <td>120000</td>\n",
       "      <td>2</td>\n",
       "      <td>2</td>\n",
       "      <td>4</td>\n",
       "      <td>2</td>\n",
       "      <td>1</td>\n",
       "    </tr>\n",
       "    <tr>\n",
       "      <th>1</th>\n",
       "      <td>1</td>\n",
       "      <td>2</td>\n",
       "      <td>0</td>\n",
       "      <td>2</td>\n",
       "      <td>15</td>\n",
       "      <td>2</td>\n",
       "      <td>4</td>\n",
       "      <td>1</td>\n",
       "      <td>6</td>\n",
       "      <td>1</td>\n",
       "      <td>...</td>\n",
       "      <td>2</td>\n",
       "      <td>2</td>\n",
       "      <td>1</td>\n",
       "      <td>3</td>\n",
       "      <td>120000</td>\n",
       "      <td>1</td>\n",
       "      <td>3</td>\n",
       "      <td>3</td>\n",
       "      <td>2</td>\n",
       "      <td>1</td>\n",
       "    </tr>\n",
       "    <tr>\n",
       "      <th>2</th>\n",
       "      <td>1</td>\n",
       "      <td>1</td>\n",
       "      <td>2</td>\n",
       "      <td>1</td>\n",
       "      <td>1</td>\n",
       "      <td>2</td>\n",
       "      <td>4</td>\n",
       "      <td>1</td>\n",
       "      <td>1</td>\n",
       "      <td>1</td>\n",
       "      <td>...</td>\n",
       "      <td>3</td>\n",
       "      <td>1</td>\n",
       "      <td>1</td>\n",
       "      <td>3</td>\n",
       "      <td>100000</td>\n",
       "      <td>2</td>\n",
       "      <td>2</td>\n",
       "      <td>5</td>\n",
       "      <td>1</td>\n",
       "      <td>1</td>\n",
       "    </tr>\n",
       "  </tbody>\n",
       "</table>\n",
       "<p>3 rows × 21 columns</p>\n",
       "</div>"
      ],
      "text/plain": [
       "   os  sex  siblings  osPC  taxi  mobgames  regionMos  camera  regionRF  pay  \\\n",
       "0   1    1         1     1    20         1          5       1         1    1   \n",
       "1   1    2         0     2    15         2          4       1         6    1   \n",
       "2   1    1         2     1     1         2          4       1         1    1   \n",
       "\n",
       "   ...  occupation  smarthouse  IT  watches  budget  charges  browser  \\\n",
       "0  ...           2           2   2        2  120000        2        2   \n",
       "1  ...           2           2   1        3  120000        1        3   \n",
       "2  ...           3           1   1        3  100000        2        2   \n",
       "\n",
       "   technologies  interface  material  \n",
       "0             4          2         1  \n",
       "1             3          2         1  \n",
       "2             5          1         1  \n",
       "\n",
       "[3 rows x 21 columns]"
      ]
     },
     "execution_count": 3,
     "metadata": {},
     "output_type": "execute_result"
    }
   ],
   "source": [
    "print(\"Размер данных:\", df.shape)\n",
    "print(\"\\nПервые 3 строки:\")\n",
    "df.head(3)"
   ]
  },
  {
   "cell_type": "code",
   "execution_count": 4,
   "id": "95ad805c",
   "metadata": {},
   "outputs": [],
   "source": [
    "x = df.drop('os', axis=1)\n",
    "y = df['os']\n",
    "\n",
    "x_train, x_test, y_train, y_test = train_test_split(x, y, test_size=0.5, random_state=37)"
   ]
  },
  {
   "cell_type": "code",
   "execution_count": 5,
   "id": "30f17f7e",
   "metadata": {},
   "outputs": [
    {
     "name": "stdout",
     "output_type": "stream",
     "text": [
      "Точность модели: 0.71\n",
      "\n",
      "Пример первых 17 предсказаний:\n",
      "\n",
      "Фактические:\t [1 1 1 2 1 2 1 2 1 1 2 1 2 1 1 2 2]\n",
      "Предсказания:\t [2 1 1 2 1 2 1 2 1 1 1 2 2 1 2 1 2]\n"
     ]
    }
   ],
   "source": [
    "x_train = x_train.to_numpy(dtype=np.float64, copy=True)\n",
    "x_test = x_test.to_numpy(dtype=np.float64, copy=True)\n",
    "\n",
    "model = KNeighborsClassifier(n_neighbors=3)\n",
    "model.fit(x_train, y_train)\n",
    "\n",
    "y_pred = model.predict(x_test)\n",
    "\n",
    "accuracy = accuracy_score(y_test, y_pred)\n",
    "\n",
    "print(f\"Точность модели: {accuracy:.2f}\\n\")\n",
    "print(\"Пример первых 17 предсказаний:\\n\")\n",
    "print(\"Фактические:\\t\", y_test.values[:17])\n",
    "print(\"Предсказания:\\t\", y_pred[:17])"
   ]
  },
  {
   "cell_type": "code",
   "execution_count": null,
   "id": "c093b85a",
   "metadata": {},
   "outputs": [],
   "source": []
  }
 ],
 "metadata": {
  "kernelspec": {
   "display_name": "Python 3 (ipykernel)",
   "language": "python",
   "name": "python3"
  },
  "language_info": {
   "codemirror_mode": {
    "name": "ipython",
    "version": 3
   },
   "file_extension": ".py",
   "mimetype": "text/x-python",
   "name": "python",
   "nbconvert_exporter": "python",
   "pygments_lexer": "ipython3",
   "version": "3.11.5"
  }
 },
 "nbformat": 4,
 "nbformat_minor": 5
}
